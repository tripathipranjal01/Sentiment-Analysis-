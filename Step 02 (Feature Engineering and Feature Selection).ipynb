{
 "cells": [
  {
   "cell_type": "markdown",
   "id": "86584429",
   "metadata": {},
   "source": [
    "## Importing all dependencies "
   ]
  },
  {
   "cell_type": "code",
   "execution_count": 4,
   "id": "528d0f53",
   "metadata": {},
   "outputs": [],
   "source": [
    "import numpy as np\n",
    "import pandas as pd\n",
    "import seaborn as sns\n",
    "import matplotlib.pyplot as plt\n",
    "import plotly.express as px\n",
    "import nltk\n",
    "from sklearn.feature_extraction.text import CountVectorizer\n",
    "from wordcloud import WordCloud,STOPWORDS\n",
    "from nltk.stem import WordNetLemmatizer\n",
    "from nltk.tokenize import word_tokenize\n",
    "import re,string,unicodedata\n",
    "from sklearn.metrics import classification_report,confusion_matrix,accuracy_score,f1_score\n",
    "from sklearn.model_selection import train_test_split\n",
    "from string import punctuation\n",
    "from nltk import pos_tag\n",
    "from nltk.corpus import wordnet\n",
    "import re\n",
    "import warnings\n",
    "warnings.filterwarnings('ignore')\n",
    "import matplotlib.pyplot as plt"
   ]
  },
  {
   "cell_type": "markdown",
   "id": "a7c6d02b",
   "metadata": {},
   "source": [
    "## Loading of Data"
   ]
  },
  {
   "cell_type": "code",
   "execution_count": 5,
   "id": "21565e2b",
   "metadata": {},
   "outputs": [],
   "source": [
    "df=pd.read_csv(\"IMDB-Dataset.csv\")\n"
   ]
  },
  {
   "cell_type": "markdown",
   "id": "0c7142c7",
   "metadata": {},
   "source": [
    "## Data Cleaning and Preprocessing"
   ]
  },
  {
   "cell_type": "code",
   "execution_count": 6,
   "id": "5b8d7538",
   "metadata": {},
   "outputs": [
    {
     "name": "stdout",
     "output_type": "stream",
     "text": [
      "{'needn', 'do', 'and', 'weren', 'under', 'll', 'am', 'below', 'only', 've', 'of', 'theirs', 'were', 'no', 'him', 'm', 'whom', 'our', 'their', 'is', 'where', 'didn', 'between', 'herself', 'in', \"hasn't\", 'when', 'we', 'are', \"needn't\", 'now', 'a', 'for', 'doing', 'too', 'off', 'ma', 'such', 'once', 'at', 'same', 'been', 'ain', \"you'd\", 'y', 'had', 'mightn', 'against', 'shan', 'during', 'until', 'more', 'out', 'shall', 'then', 'it', 'if', 'there', 'yourself', 'hadn', 'an', \"it's\", 'should', 'each', 'most', 'with', 'through', 'after', 'wasn', \"mightn't\", 'few', \"you'll\", \"you're\", 'ours', 'itself', 'isn', 'does', 'again', 'these', \"you've\", 'up', \"doesn't\", 'might', 'ourselves', 'those', 'my', \"shan't\", 'himself', 'o', \"that'll\", 'by', 'don', 'yours', 'i', \"weren't\", 'why', 'will', \"she's\", 'the', 'or', 'nor', 'being', \"should've\", 'hasn', \"won't\", 'who', \"shouldn't\", 'both', 'haven', \"didn't\", 'your', 'them', 'they', 'above', 'hers', 'other', 'me', 'shouldn', 'd', 'just', 'that', 'having', 'was', 'yourselves', 'what', 'because', 's', 'couldn', \"hadn't\", \"wouldn't\", \"couldn't\", 'further', 'here', \"wasn't\", \"haven't\", 'while', 'would', 'she', 'any', 'down', 'this', 'some', 'themselves', 'he', 'own', 'about', 'on', \"isn't\", 'very', 'you', 'as', 'doesn', \"don't\", 'have', 'over', 're', 'be', 'to', 'so', 'than', 'has', 't', 'wouldn', 'into', 'myself', \"aren't\", 'aren', 'but', 'which', 'its', 'mustn', 'before', 'from', 'her', 'did', 'won', 'all', \"mustn't\", 'how', 'his', 'could', 'can'}\n"
     ]
    }
   ],
   "source": [
    "#Customize stopword as per data\n",
    "from nltk.corpus import stopwords\n",
    "stop_words = stopwords.words('english')\n",
    "new_stopwords = [\"would\",\"shall\",\"could\",\"might\"]\n",
    "stop_words.extend(new_stopwords)\n",
    "stop_words.remove(\"not\")\n",
    "stop_words=set(stop_words)\n",
    "print(stop_words)"
   ]
  },
  {
   "cell_type": "code",
   "execution_count": 7,
   "id": "1d08805d",
   "metadata": {},
   "outputs": [],
   "source": [
    "'''-----------------------------Data Cleaning and Preprocessing pipeline----------------------------------'''\n",
    "\n",
    "#Removing special character\n",
    "def remove_special_character(content):\n",
    "    return re.sub('\\W+',' ', content )#re.sub('\\[[^&@#!]]*\\]', '', content)\n",
    "\n",
    "# Removing URL's\n",
    "def remove_url(content):\n",
    "    return re.sub(r'http\\S+', '', content)\n",
    "\n",
    "#Removing the stopwords from text\n",
    "def remove_stopwords(content):\n",
    "    clean_data = []\n",
    "    for i in content.split():\n",
    "        if i.strip().lower() not in stop_words and i.strip().lower().isalpha():\n",
    "            clean_data.append(i.strip().lower())\n",
    "    return \" \".join(clean_data)\n",
    "\n",
    "# Expansion of english contractions\n",
    "def contraction_expansion(content):\n",
    "    content = re.sub(r\"won\\'t\", \"would not\", content)\n",
    "    content = re.sub(r\"can\\'t\", \"can not\", content)\n",
    "    content = re.sub(r\"don\\'t\", \"do not\", content)\n",
    "    content = re.sub(r\"shouldn\\'t\", \"should not\", content)\n",
    "    content = re.sub(r\"needn\\'t\", \"need not\", content)\n",
    "    content = re.sub(r\"hasn\\'t\", \"has not\", content)\n",
    "    content = re.sub(r\"haven\\'t\", \"have not\", content)\n",
    "    content = re.sub(r\"weren\\'t\", \"were not\", content)\n",
    "    content = re.sub(r\"mightn\\'t\", \"might not\", content)\n",
    "    content = re.sub(r\"didn\\'t\", \"did not\", content)\n",
    "    content = re.sub(r\"n\\'t\", \" not\", content)\n",
    "    '''content = re.sub(r\"\\'re\", \" are\", content)\n",
    "    content = re.sub(r\"\\'s\", \" is\", content)\n",
    "    content = re.sub(r\"\\'d\", \" would\", content)\n",
    "    content = re.sub(r\"\\'ll\", \" will\", content)\n",
    "    content = re.sub(r\"\\'t\", \" not\", content)\n",
    "    content = re.sub(r\"\\'ve\", \" have\", content)\n",
    "    content = re.sub(r\"\\'m\", \" am\", content)'''\n",
    "    return content\n",
    "\n",
    "#Data preprocessing\n",
    "def data_cleaning(content):\n",
    "    content = contraction_expansion(content)\n",
    "    content = remove_special_character(content)\n",
    "    content = remove_url(content)\n",
    "    \n",
    "    content = remove_stopwords(content)    \n",
    "    return content"
   ]
  },
  {
   "cell_type": "code",
   "execution_count": 8,
   "id": "0cb5cf59",
   "metadata": {},
   "outputs": [
    {
     "name": "stdout",
     "output_type": "stream",
     "text": [
      "CPU times: user 12.7 s, sys: 66 ms, total: 12.7 s\n",
      "Wall time: 12.9 s\n"
     ]
    },
    {
     "data": {
      "text/html": [
       "<div>\n",
       "<style scoped>\n",
       "    .dataframe tbody tr th:only-of-type {\n",
       "        vertical-align: middle;\n",
       "    }\n",
       "\n",
       "    .dataframe tbody tr th {\n",
       "        vertical-align: top;\n",
       "    }\n",
       "\n",
       "    .dataframe thead th {\n",
       "        text-align: right;\n",
       "    }\n",
       "</style>\n",
       "<table border=\"1\" class=\"dataframe\">\n",
       "  <thead>\n",
       "    <tr style=\"text-align: right;\">\n",
       "      <th></th>\n",
       "      <th>Ratings</th>\n",
       "      <th>Reviews</th>\n",
       "      <th>Movies</th>\n",
       "      <th>Resenhas</th>\n",
       "      <th>Reviews_clean</th>\n",
       "    </tr>\n",
       "  </thead>\n",
       "  <tbody>\n",
       "    <tr>\n",
       "      <th>0</th>\n",
       "      <td>1.0</td>\n",
       "      <td>*Disclaimer: I only watched this movie as a conditional agreement. And I see films for free. I wouldn't be caught dead giving my hard earned money to these idiots.Well, to explain the depth of this 'film', I could write my shortest review, ever. Don't see this movie. It is by far the stupidest, lamest, most lazy, and unbelievably UNFUNNY movie I have ever seen. It is a total disaster. But since my hatred for this movie, and the others like it, extends far beyond one viewing, I think I'll go on for a bit.I don't know any of the people in the movie besides Carmen Electra, Vanessa Minnillo, and Kim Kardashian, but it doesn't matter. They're all horrible, though I think that was the point. The editing is flat out horrible, and possibly blatant continuity errors make this crapfast even crappier than I thought it would be. Now I know that these films are not supposed to be serious at all, but come on, it's film-making 101 that if someone gets a minor facial cut, it should be there in the...</td>\n",
       "      <td>Disaster Movie</td>\n",
       "      <td>* Isenção de responsabilidade: eu só assisti esse filme como um acordo condicional. E eu vejo filmes de graça. Eu não seria pego morto dando meu dinheiro suado a esses idiotas. Bem, para explicar a profundidade desse 'filme', eu poderia escrever minha crítica mais curta de todos os tempos. Não vê este filme. É de longe o filme mais estúpido, lamenta, preguiçoso e inacreditavelmente UNFUNNY que eu já vi. É um desastre total. Mas como o meu ódio por este filme e por outros, se estende muito além de uma exibição, acho que vou continuar um pouco. Não conheço nenhuma das pessoas do filme além de Carmen Electra, Vanessa Minnillo, e Kim Kardashian, mas isso não importa. Eles são todos horríveis, embora eu ache que esse seja o ponto. A edição é horrível e, possivelmente, erros de continuidade flagrantes tornam essa porcaria ainda mais horrível do que eu pensava. Agora eu sei que esses filmes não devem ser sérios, mas vamos lá, é o cinema 101 que se alguém fizer um pequeno corte facial, ele...</td>\n",
       "      <td>disclaimer watched movie conditional agreement see films free not caught dead giving hard earned money idiots well explain depth film write shortest review ever not see movie far stupidest lamest lazy unbelievably unfunny movie ever seen total disaster since hatred movie others like extends far beyond one viewing think go bit not know people movie besides carmen electra vanessa minnillo kim kardashian not matter horrible though think point editing flat horrible possibly blatant continuity errors make crapfast even crappier thought know films not supposed serious come film making someone gets minor facial cut next shot someone gets cut sword blood least cut though since narnia films get away give disaster movie pass jokes thoughtless mindless physical gags obviously take popular movies last year late well including best picture nominees know saddest thing stupid movies not care much money make many cameos sorry ass excuses films taking away jobs actors writers directors truly deserv...</td>\n",
       "    </tr>\n",
       "    <tr>\n",
       "      <th>1</th>\n",
       "      <td>1.0</td>\n",
       "      <td>I am writing this in hopes that this gets put over the previous review of this \"film\". How anyone can find this slop entertaining is completely beyond me. First of all a spoof film entitled \"Disaster Movie\", should indeed be a spoof on disaster films. Now I have seen 1 (yes count them, 1) disaster film being spoofed, that being \"Twister\". How does Juno, Iron Man, Batman, The Hulk, Alvin and the Chipmunks, Amy Winehouse, or Hancock register as Disaster films? Selzterwater and Failburg once again have shown that they lack any sort of writing skill and humor. Having unfortunately been tortured with Date Movie and Epic Movie I know exactly what to expect from these two...no plot, no jokes just bad references and cheaply remade scenes from other films. Someone should have informed them that satire is more than just copy and paste from one film to another, though I shouldn't say that because some of these actually just seem to be taken from trailers.There is nothing clever or witty or re...</td>\n",
       "      <td>Disaster Movie</td>\n",
       "      <td>Estou escrevendo isso na esperança de que isso seja colocado sobre a revisão anterior deste \"filme\". Como alguém pode achar divertido esse desleixo está completamente além de mim. Antes de mais nada, um filme de paródia intitulado \"Filme de desastre\" deveria ser, de fato, uma paródia de filmes de desastre. Agora eu já vi 1 (sim, conte-os, 1) filme de desastre sendo falsificado, sendo \"Twister\". Como Juno, Homem de Ferro, Batman, O Hulk, Alvin e os Esquilos, Amy Winehouse ou Hancock se registram como filmes de Desastre? Selzterwater e Failburg mostraram mais uma vez que não possuem nenhum tipo de habilidade e humor de escrita. Infelizmente, tendo sido torturado com Date Movie e Epic Movie, sei exatamente o que esperar desses dois ... nenhum enredo, nenhuma piada, apenas más referências e cenas refeitas de outros filmes. Alguém deveria ter informado a eles que a sátira é mais do que apenas copiar e colar de um filme para outro, embora eu não deva dizer isso porque alguns deles realme...</td>\n",
       "      <td>writing hopes gets put previous review film anyone find slop entertaining completely beyond first spoof film entitled disaster movie indeed spoof disaster films seen yes count disaster film spoofed twister juno iron man batman hulk alvin chipmunks amy winehouse hancock register disaster films selzterwater failburg shown lack sort writing skill humor unfortunately tortured date movie epic movie know exactly expect two plot jokes bad references cheaply remade scenes films someone informed satire copy paste one film another though not say actually seem taken trailers nothing clever witty remotely smart way two write not believe people still pay see travesties insult audience though enjoy films doubt smart enough realize rating unfortunately not number low enough yes includes negatives rate deserves top worst films time right date movie epic faliure mean movie meet spartans rather forced hour manos hands fate marathon watch slop</td>\n",
       "    </tr>\n",
       "    <tr>\n",
       "      <th>2</th>\n",
       "      <td>1.0</td>\n",
       "      <td>Really, I could write a scathing review of this turd sandwich, but instead, I'm just going to be making a few observations and points I've deduced.There's just no point in watching these movies anymore. Does any reader out there remember Scary Movie? Remember how it was original with a few comedic elements to it? There was slapstick, some funny lines, it was a pretty forgettable comedy, but it was worth the price of admission. Well, That was the last time this premise was funny. STOP MAKING THESE MOVIES. PLEASE.I could call for a boycott of these pieces of monkey sh*t, but we all know there's going to be a line up of pre pubescent annoying little buggers, spouting crappy one liners like, \"THIS IS SPARTA!\" and, \"IM RICK JAMES BITCH\" so these movies will continue to make some form of monetary gain, considering the production value of this movie looks like it cost about 10 cents to make.Don't see this movie. Don't spend any money on it. Go home, rent Airplane, laugh your ass off, and ...</td>\n",
       "      <td>Disaster Movie</td>\n",
       "      <td>Realmente, eu poderia escrever uma crítica contundente sobre esse sanduíche de cocô, mas, em vez disso, vou fazer algumas observações e pontos que deduzi. Não há mais sentido assistir a esses filmes. Algum leitor por aí se lembra do filme de terror? Lembra como era original, com alguns elementos cômicos? Havia palhaçada, algumas frases engraçadas, era uma comédia bastante esquecível, mas valia o preço da entrada. Bem, essa foi a última vez que essa premissa foi engraçada. PARE DE FAZER ESTES FILMES. POR FAVOR, eu poderia pedir um boicote a esses pedaços de macaco, mas todos sabemos que haverá uma fila de buggers irritantes e pré-pubescentes, jorrando uns forros ruins como: \"ISTO É SPARTA!\" e \"IM RICK JAMES BITCH\", para que esses filmes continuem gerando algum ganho monetário, considerando que o valor de produção deste filme parece custar cerca de 10 centavos de dólar. Não gaste dinheiro com isso. Vá para casa, alugue a Airplane, ria e julgue silenciosamente as pessoas que estão fal...</td>\n",
       "      <td>really write scathing review turd sandwich instead going making observations points deduced point watching movies anymore reader remember scary movie remember original comedic elements slapstick funny lines pretty forgettable comedy worth price admission well last time premise funny stop making movies please call boycott pieces monkey sh know going line pre pubescent annoying little buggers spouting crappy one liners like sparta im rick james bitch movies continue make form monetary gain considering production value movie looks like cost cents make not see movie not spend money go home rent airplane laugh ass silently judge people talking movie monday favor</td>\n",
       "    </tr>\n",
       "    <tr>\n",
       "      <th>3</th>\n",
       "      <td>1.0</td>\n",
       "      <td>If you saw the other previous spoof movies by these two horrible gentlemen, then you should know that this already will be bad. I'll tell you the truth, if you want to watch it as a brainless person (ironically meant for the stereotypical teenagers, which I am not) then you will laugh at it a bit. But if you judge it, even a little, the movie automatically fails. Why? Never ask that when it comes to these two men.Remember the good old Hollywood days whenever making a movie was about showing people a type of art, and also a story that kept you on the edge of your seat? Well whenever word hit that making films earned you loads of cash, then all these greedy people came in the picture and its quite pathetic. These two are no exception. We still have movie artists (most notably the genius that is Christopher Nolan). But these two guys just...well I've been writing so big words, let me put it in simple terms for these guys...These guys suck, they are not artists, but instead money cravi...</td>\n",
       "      <td>Disaster Movie</td>\n",
       "      <td>Se você viu os outros filmes falsificados anteriores por esses dois senhores horríveis, deve saber que isso já será ruim. Vou lhe dizer a verdade, se você quiser vê-lo como uma pessoa sem cérebro (ironicamente para os adolescentes estereotipados, o que eu não sou), então você rirá um pouco. Mas se você julgar, mesmo que um pouco, o filme falha automaticamente. Por quê? Nunca pergunte isso quando se trata desses dois homens. Lembre-se dos bons e velhos tempos de Hollywood, sempre que fazer um filme era mostrar às pessoas um tipo de arte e também uma história que o mantinha na ponta do seu assento? Bem, sempre que a notícia de que fazer filmes ganhava muito dinheiro, então todas essas pessoas gananciosas apareciam na imagem e é bastante patético. Esses dois não são exceção. Ainda temos artistas de filmes (principalmente o gênio Christopher Nolan). Mas esses dois caras simplesmente ... bem, eu tenho escrito palavras tão grandes, deixe-me colocar em termos simples para esses caras ... ...</td>\n",
       "      <td>saw previous spoof movies two horrible gentlemen know already bad tell truth want watch brainless person ironically meant stereotypical teenagers not laugh bit judge even little movie automatically fails never ask comes two men remember good old hollywood days whenever making movie showing people type art also story kept edge seat well whenever word hit making films earned loads cash greedy people came picture quite pathetic two exception still movie artists notably genius christopher nolan two guys well writing big words let put simple terms guys guys suck not artists instead money craving whores latest movie proves even movie fails easily mind blowing mean nothing funny trailer people usually put best stuff like idiots sometimes knew going bad made bet friends not good idea write movie reviews paper tell everyone whats good whats bad friends flipped review well warning least not even called movie nothing artistic original jokes sorry references made throughout pretty much random ...</td>\n",
       "    </tr>\n",
       "    <tr>\n",
       "      <th>4</th>\n",
       "      <td>1.0</td>\n",
       "      <td>This movie I saw a day early for free and I still feel like I got ripped off. It is totally brain dead. Burping, kicking in the groin and boobs all over the place. Lame. What is wrong with society, that films like this even get made? The parodies were all horrendous, and un-funny. The plot was lackluster at best and the acting was shallow, transparent and really quite unnecessary.Anyone see \"Idiocracy\"? Remember the movie that won all the academy awards in the future? Well this is that movie. I have not seen a more rancid crappy film. \"Date Movie\" was okay, The Scary movies at least had decent plots, but this, this makes \"spoofs\" (if I can be so nice to call it that) for this year 0 for 3, with \"Meet the Spartans\" and \"Superhero Movie\" all falling flat.Well I've wasted even more of my life typing about this sack of cow dung. So all in all, don't see this movie, unless of course your IQ is below 80.Thanks, R</td>\n",
       "      <td>Disaster Movie</td>\n",
       "      <td>Este filme eu vi um dia cedo de graça e ainda sinto que fui enganado. É totalmente morte cerebral. Arrotando, chutando a virilha e os peitos por todo o lugar. Coxo. O que há de errado com a sociedade, que filmes como esse são feitos? As paródias eram todas horrendas e pouco engraçadas. O enredo foi sem brilho, na melhor das hipóteses, e a atuação foi superficial, transparente e realmente bastante desnecessária. Alguém vê \"Idiocracia\"? Lembra do filme que ganhou todos os prêmios da academia no futuro? Bem, este é esse filme. Eu não vi um filme de baixa qualidade mais rançoso. \"Date Movie\" foi bom, The Scary Movies pelo menos teve enredos decentes, mas isso faz \"spoofs\" (se é que posso dizer assim) para este ano 0 para 3, com \"Meet the Spartans\" e \"Filme de super-heróis\" todos caindo. Bem, eu perdi ainda mais da minha vida digitando sobre esse saco de esterco de vaca. Então, apesar de tudo, não assista a este filme, a menos que o seu QI seja inferior a 80.</td>\n",
       "      <td>movie saw day early free still feel like got ripped totally brain dead burping kicking groin boobs place lame wrong society films like even get made parodies horrendous un funny plot lackluster best acting shallow transparent really quite unnecessary anyone see idiocracy remember movie academy awards future well movie not seen rancid crappy film date movie okay scary movies least decent plots makes spoofs nice call year meet spartans superhero movie falling flat well wasted even life typing sack cow dung not see movie unless course iq thanks r</td>\n",
       "    </tr>\n",
       "  </tbody>\n",
       "</table>\n",
       "</div>"
      ],
      "text/plain": [
       "   Ratings  \\\n",
       "0      1.0   \n",
       "1      1.0   \n",
       "2      1.0   \n",
       "3      1.0   \n",
       "4      1.0   \n",
       "\n",
       "                                                                                                                                                                                                                                                                                                                                                                                                                                                                                                                                                                                                                                                                                                                                                                                                                                                                                                                                                                                                                                   Reviews  \\\n",
       "0  *Disclaimer: I only watched this movie as a conditional agreement. And I see films for free. I wouldn't be caught dead giving my hard earned money to these idiots.Well, to explain the depth of this 'film', I could write my shortest review, ever. Don't see this movie. It is by far the stupidest, lamest, most lazy, and unbelievably UNFUNNY movie I have ever seen. It is a total disaster. But since my hatred for this movie, and the others like it, extends far beyond one viewing, I think I'll go on for a bit.I don't know any of the people in the movie besides Carmen Electra, Vanessa Minnillo, and Kim Kardashian, but it doesn't matter. They're all horrible, though I think that was the point. The editing is flat out horrible, and possibly blatant continuity errors make this crapfast even crappier than I thought it would be. Now I know that these films are not supposed to be serious at all, but come on, it's film-making 101 that if someone gets a minor facial cut, it should be there in the...   \n",
       "1  I am writing this in hopes that this gets put over the previous review of this \"film\". How anyone can find this slop entertaining is completely beyond me. First of all a spoof film entitled \"Disaster Movie\", should indeed be a spoof on disaster films. Now I have seen 1 (yes count them, 1) disaster film being spoofed, that being \"Twister\". How does Juno, Iron Man, Batman, The Hulk, Alvin and the Chipmunks, Amy Winehouse, or Hancock register as Disaster films? Selzterwater and Failburg once again have shown that they lack any sort of writing skill and humor. Having unfortunately been tortured with Date Movie and Epic Movie I know exactly what to expect from these two...no plot, no jokes just bad references and cheaply remade scenes from other films. Someone should have informed them that satire is more than just copy and paste from one film to another, though I shouldn't say that because some of these actually just seem to be taken from trailers.There is nothing clever or witty or re...   \n",
       "2  Really, I could write a scathing review of this turd sandwich, but instead, I'm just going to be making a few observations and points I've deduced.There's just no point in watching these movies anymore. Does any reader out there remember Scary Movie? Remember how it was original with a few comedic elements to it? There was slapstick, some funny lines, it was a pretty forgettable comedy, but it was worth the price of admission. Well, That was the last time this premise was funny. STOP MAKING THESE MOVIES. PLEASE.I could call for a boycott of these pieces of monkey sh*t, but we all know there's going to be a line up of pre pubescent annoying little buggers, spouting crappy one liners like, \"THIS IS SPARTA!\" and, \"IM RICK JAMES BITCH\" so these movies will continue to make some form of monetary gain, considering the production value of this movie looks like it cost about 10 cents to make.Don't see this movie. Don't spend any money on it. Go home, rent Airplane, laugh your ass off, and ...   \n",
       "3  If you saw the other previous spoof movies by these two horrible gentlemen, then you should know that this already will be bad. I'll tell you the truth, if you want to watch it as a brainless person (ironically meant for the stereotypical teenagers, which I am not) then you will laugh at it a bit. But if you judge it, even a little, the movie automatically fails. Why? Never ask that when it comes to these two men.Remember the good old Hollywood days whenever making a movie was about showing people a type of art, and also a story that kept you on the edge of your seat? Well whenever word hit that making films earned you loads of cash, then all these greedy people came in the picture and its quite pathetic. These two are no exception. We still have movie artists (most notably the genius that is Christopher Nolan). But these two guys just...well I've been writing so big words, let me put it in simple terms for these guys...These guys suck, they are not artists, but instead money cravi...   \n",
       "4                                                                                 This movie I saw a day early for free and I still feel like I got ripped off. It is totally brain dead. Burping, kicking in the groin and boobs all over the place. Lame. What is wrong with society, that films like this even get made? The parodies were all horrendous, and un-funny. The plot was lackluster at best and the acting was shallow, transparent and really quite unnecessary.Anyone see \"Idiocracy\"? Remember the movie that won all the academy awards in the future? Well this is that movie. I have not seen a more rancid crappy film. \"Date Movie\" was okay, The Scary movies at least had decent plots, but this, this makes \"spoofs\" (if I can be so nice to call it that) for this year 0 for 3, with \"Meet the Spartans\" and \"Superhero Movie\" all falling flat.Well I've wasted even more of my life typing about this sack of cow dung. So all in all, don't see this movie, unless of course your IQ is below 80.Thanks, R   \n",
       "\n",
       "           Movies  \\\n",
       "0  Disaster Movie   \n",
       "1  Disaster Movie   \n",
       "2  Disaster Movie   \n",
       "3  Disaster Movie   \n",
       "4  Disaster Movie   \n",
       "\n",
       "                                                                                                                                                                                                                                                                                                                                                                                                                                                                                                                                                                                                                                                                                                                                                                                                                                                                                                                                                                                                                                  Resenhas  \\\n",
       "0  * Isenção de responsabilidade: eu só assisti esse filme como um acordo condicional. E eu vejo filmes de graça. Eu não seria pego morto dando meu dinheiro suado a esses idiotas. Bem, para explicar a profundidade desse 'filme', eu poderia escrever minha crítica mais curta de todos os tempos. Não vê este filme. É de longe o filme mais estúpido, lamenta, preguiçoso e inacreditavelmente UNFUNNY que eu já vi. É um desastre total. Mas como o meu ódio por este filme e por outros, se estende muito além de uma exibição, acho que vou continuar um pouco. Não conheço nenhuma das pessoas do filme além de Carmen Electra, Vanessa Minnillo, e Kim Kardashian, mas isso não importa. Eles são todos horríveis, embora eu ache que esse seja o ponto. A edição é horrível e, possivelmente, erros de continuidade flagrantes tornam essa porcaria ainda mais horrível do que eu pensava. Agora eu sei que esses filmes não devem ser sérios, mas vamos lá, é o cinema 101 que se alguém fizer um pequeno corte facial, ele...   \n",
       "1  Estou escrevendo isso na esperança de que isso seja colocado sobre a revisão anterior deste \"filme\". Como alguém pode achar divertido esse desleixo está completamente além de mim. Antes de mais nada, um filme de paródia intitulado \"Filme de desastre\" deveria ser, de fato, uma paródia de filmes de desastre. Agora eu já vi 1 (sim, conte-os, 1) filme de desastre sendo falsificado, sendo \"Twister\". Como Juno, Homem de Ferro, Batman, O Hulk, Alvin e os Esquilos, Amy Winehouse ou Hancock se registram como filmes de Desastre? Selzterwater e Failburg mostraram mais uma vez que não possuem nenhum tipo de habilidade e humor de escrita. Infelizmente, tendo sido torturado com Date Movie e Epic Movie, sei exatamente o que esperar desses dois ... nenhum enredo, nenhuma piada, apenas más referências e cenas refeitas de outros filmes. Alguém deveria ter informado a eles que a sátira é mais do que apenas copiar e colar de um filme para outro, embora eu não deva dizer isso porque alguns deles realme...   \n",
       "2  Realmente, eu poderia escrever uma crítica contundente sobre esse sanduíche de cocô, mas, em vez disso, vou fazer algumas observações e pontos que deduzi. Não há mais sentido assistir a esses filmes. Algum leitor por aí se lembra do filme de terror? Lembra como era original, com alguns elementos cômicos? Havia palhaçada, algumas frases engraçadas, era uma comédia bastante esquecível, mas valia o preço da entrada. Bem, essa foi a última vez que essa premissa foi engraçada. PARE DE FAZER ESTES FILMES. POR FAVOR, eu poderia pedir um boicote a esses pedaços de macaco, mas todos sabemos que haverá uma fila de buggers irritantes e pré-pubescentes, jorrando uns forros ruins como: \"ISTO É SPARTA!\" e \"IM RICK JAMES BITCH\", para que esses filmes continuem gerando algum ganho monetário, considerando que o valor de produção deste filme parece custar cerca de 10 centavos de dólar. Não gaste dinheiro com isso. Vá para casa, alugue a Airplane, ria e julgue silenciosamente as pessoas que estão fal...   \n",
       "3  Se você viu os outros filmes falsificados anteriores por esses dois senhores horríveis, deve saber que isso já será ruim. Vou lhe dizer a verdade, se você quiser vê-lo como uma pessoa sem cérebro (ironicamente para os adolescentes estereotipados, o que eu não sou), então você rirá um pouco. Mas se você julgar, mesmo que um pouco, o filme falha automaticamente. Por quê? Nunca pergunte isso quando se trata desses dois homens. Lembre-se dos bons e velhos tempos de Hollywood, sempre que fazer um filme era mostrar às pessoas um tipo de arte e também uma história que o mantinha na ponta do seu assento? Bem, sempre que a notícia de que fazer filmes ganhava muito dinheiro, então todas essas pessoas gananciosas apareciam na imagem e é bastante patético. Esses dois não são exceção. Ainda temos artistas de filmes (principalmente o gênio Christopher Nolan). Mas esses dois caras simplesmente ... bem, eu tenho escrito palavras tão grandes, deixe-me colocar em termos simples para esses caras ... ...   \n",
       "4                                 Este filme eu vi um dia cedo de graça e ainda sinto que fui enganado. É totalmente morte cerebral. Arrotando, chutando a virilha e os peitos por todo o lugar. Coxo. O que há de errado com a sociedade, que filmes como esse são feitos? As paródias eram todas horrendas e pouco engraçadas. O enredo foi sem brilho, na melhor das hipóteses, e a atuação foi superficial, transparente e realmente bastante desnecessária. Alguém vê \"Idiocracia\"? Lembra do filme que ganhou todos os prêmios da academia no futuro? Bem, este é esse filme. Eu não vi um filme de baixa qualidade mais rançoso. \"Date Movie\" foi bom, The Scary Movies pelo menos teve enredos decentes, mas isso faz \"spoofs\" (se é que posso dizer assim) para este ano 0 para 3, com \"Meet the Spartans\" e \"Filme de super-heróis\" todos caindo. Bem, eu perdi ainda mais da minha vida digitando sobre esse saco de esterco de vaca. Então, apesar de tudo, não assista a este filme, a menos que o seu QI seja inferior a 80.   \n",
       "\n",
       "                                                                                                                                                                                                                                                                                                                                                                                                                                                                                                                                                                                                                                                                                                                                                                                                                                                                                                                                                                                                                             Reviews_clean  \n",
       "0  disclaimer watched movie conditional agreement see films free not caught dead giving hard earned money idiots well explain depth film write shortest review ever not see movie far stupidest lamest lazy unbelievably unfunny movie ever seen total disaster since hatred movie others like extends far beyond one viewing think go bit not know people movie besides carmen electra vanessa minnillo kim kardashian not matter horrible though think point editing flat horrible possibly blatant continuity errors make crapfast even crappier thought know films not supposed serious come film making someone gets minor facial cut next shot someone gets cut sword blood least cut though since narnia films get away give disaster movie pass jokes thoughtless mindless physical gags obviously take popular movies last year late well including best picture nominees know saddest thing stupid movies not care much money make many cameos sorry ass excuses films taking away jobs actors writers directors truly deserv...  \n",
       "1                                                               writing hopes gets put previous review film anyone find slop entertaining completely beyond first spoof film entitled disaster movie indeed spoof disaster films seen yes count disaster film spoofed twister juno iron man batman hulk alvin chipmunks amy winehouse hancock register disaster films selzterwater failburg shown lack sort writing skill humor unfortunately tortured date movie epic movie know exactly expect two plot jokes bad references cheaply remade scenes films someone informed satire copy paste one film another though not say actually seem taken trailers nothing clever witty remotely smart way two write not believe people still pay see travesties insult audience though enjoy films doubt smart enough realize rating unfortunately not number low enough yes includes negatives rate deserves top worst films time right date movie epic faliure mean movie meet spartans rather forced hour manos hands fate marathon watch slop  \n",
       "2                                                                                                                                                                                                                                                                                                                                                really write scathing review turd sandwich instead going making observations points deduced point watching movies anymore reader remember scary movie remember original comedic elements slapstick funny lines pretty forgettable comedy worth price admission well last time premise funny stop making movies please call boycott pieces monkey sh know going line pre pubescent annoying little buggers spouting crappy one liners like sparta im rick james bitch movies continue make form monetary gain considering production value movie looks like cost cents make not see movie not spend money go home rent airplane laugh ass silently judge people talking movie monday favor  \n",
       "3  saw previous spoof movies two horrible gentlemen know already bad tell truth want watch brainless person ironically meant stereotypical teenagers not laugh bit judge even little movie automatically fails never ask comes two men remember good old hollywood days whenever making movie showing people type art also story kept edge seat well whenever word hit making films earned loads cash greedy people came picture quite pathetic two exception still movie artists notably genius christopher nolan two guys well writing big words let put simple terms guys guys suck not artists instead money craving whores latest movie proves even movie fails easily mind blowing mean nothing funny trailer people usually put best stuff like idiots sometimes knew going bad made bet friends not good idea write movie reviews paper tell everyone whats good whats bad friends flipped review well warning least not even called movie nothing artistic original jokes sorry references made throughout pretty much random ...  \n",
       "4                                                                                                                                                                                                                                                                                                                                                                                                                                                                    movie saw day early free still feel like got ripped totally brain dead burping kicking groin boobs place lame wrong society films like even get made parodies horrendous un funny plot lackluster best acting shallow transparent really quite unnecessary anyone see idiocracy remember movie academy awards future well movie not seen rancid crappy film date movie okay scary movies least decent plots makes spoofs nice call year meet spartans superhero movie falling flat well wasted even life typing sack cow dung not see movie unless course iq thanks r  "
      ]
     },
     "execution_count": 8,
     "metadata": {},
     "output_type": "execute_result"
    }
   ],
   "source": [
    "%%time\n",
    "pd.options.display.max_colwidth = 1000\n",
    "#Data cleaning\n",
    "df['Reviews_clean']=df['Reviews'].apply(data_cleaning)\n",
    "df.head(5)"
   ]
  },
  {
   "cell_type": "markdown",
   "id": "22792515",
   "metadata": {},
   "source": [
    "# Feature Engineering"
   ]
  },
  {
   "cell_type": "code",
   "execution_count": 9,
   "id": "b73b8874",
   "metadata": {},
   "outputs": [
    {
     "name": "stdout",
     "output_type": "stream",
     "text": [
      "Label\n",
      "0    60000\n",
      "1    60000\n",
      "Name: count, dtype: int64\n"
     ]
    }
   ],
   "source": [
    "#Mapping rating data to Binary label 1 (+ve) if rating >=7 and 0 (-ve) if rating <=4 and 2 (neutral) if rating = 5 or 6\n",
    "df['Label'] = df['Ratings'].apply(lambda x: '1' if x >= 7 else ('0' if x<=4 else '2'))\n",
    "#Removing \n",
    "df=df[df.Label<'2']\n",
    "data=df[['Reviews_clean','Label']]\n",
    "print(data['Label'].value_counts())"
   ]
  },
  {
   "cell_type": "code",
   "execution_count": 10,
   "id": "7ad126e0",
   "metadata": {},
   "outputs": [],
   "source": [
    "#Importing dependencies for feature engineering \n",
    "import sys\n",
    "import os\n",
    "from sklearn.feature_extraction.text import CountVectorizer\n",
    "from sklearn.feature_extraction.text import TfidfVectorizer\n",
    "from sklearn.model_selection import train_test_split\n",
    "from sklearn.linear_model import LogisticRegression\n",
    "from sklearn.ensemble import RandomForestClassifier\n",
    "import pandas as pd\n",
    "from prettytable import PrettyTable\n",
    "from nltk import word_tokenize          \n",
    "from nltk.stem import WordNetLemmatizer"
   ]
  },
  {
   "cell_type": "markdown",
   "id": "80dff66a",
   "metadata": {},
   "source": [
    "## Lemmatization"
   ]
  },
  {
   "cell_type": "code",
   "execution_count": 11,
   "id": "baff0012",
   "metadata": {},
   "outputs": [],
   "source": [
    "# lemmatization of word \n",
    "class LemmaTokenizer(object):\n",
    "    def __init__(self):\n",
    "        self.wordnetlemma = WordNetLemmatizer()\n",
    "    def __call__(self, reviews):\n",
    "        return [self.wordnetlemma.lemmatize(word) for word in word_tokenize(reviews)]"
   ]
  },
  {
   "cell_type": "markdown",
   "id": "16ce7e3f",
   "metadata": {},
   "source": [
    "## Vectoization with Count Vectorizer and TDIDF Vectorizer with Unigram"
   ]
  },
  {
   "cell_type": "code",
   "execution_count": null,
   "id": "9eb5150d",
   "metadata": {},
   "outputs": [],
   "source": [
    "train,test=train_test_split(data,test_size=.3,random_state=42, shuffle=True)\n",
    "countvect = CountVectorizer(analyzer = \"word\", tokenizer = LemmaTokenizer(), ngram_range=(1,1), min_df=10,max_features=500)\n",
    "tfidfvect = TfidfVectorizer(analyzer = \"word\", tokenizer = LemmaTokenizer(), ngram_range=(1,1),min_df=10,max_features=500)\n",
    "x_train_count = countvect.fit_transform(train['Reviews_clean']).toarray()\n",
    "x_test_count = countvect.transform(test['Reviews_clean']).toarray()\n",
    "x_train_tfidf = tfidfvect.fit_transform(train['Reviews_clean']).toarray()\n",
    "x_test_tfidf = tfidfvect.transform(test['Reviews_clean']).toarray()\n",
    "y_train = train['Label']\n",
    "y_test = test['Label']\n"
   ]
  },
  {
   "cell_type": "markdown",
   "id": "39cc43df",
   "metadata": {},
   "source": [
    "## Feature Importance with Logistic Regression and Count Vectorizer with unigram"
   ]
  },
  {
   "cell_type": "code",
   "execution_count": null,
   "id": "8f53df85",
   "metadata": {},
   "outputs": [],
   "source": [
    "lgr = LogisticRegression()\n",
    "lgr.fit(x_train_count,y_train)\n",
    "lgr.score(x_test_count,y_test)\n",
    "lgr.coef_[0]\n",
    "i=0\n",
    "importantfeature = PrettyTable([\"Feature\", \"Score\"])\n",
    "for feature, importance in zip(countvect.get_feature_names(), lgr.coef_[0]):\n",
    "    if i<=200:\n",
    "        importantfeature.add_row([feature, importance])\n",
    "        i=i+1\n",
    "print(importantfeature)"
   ]
  },
  {
   "cell_type": "markdown",
   "id": "d89c2b1f",
   "metadata": {},
   "source": [
    "## Feature Importance with TFIDF vectorizer and Logistic Regression with Unigram "
   ]
  },
  {
   "cell_type": "code",
   "execution_count": null,
   "id": "310bf72e",
   "metadata": {},
   "outputs": [],
   "source": [
    "lgr = LogisticRegression()\n",
    "lgr.fit(x_train_tfidf,y_train)\n",
    "lgr.score(x_test_tfidf,y_test)\n",
    "lgr.coef_[0]\n",
    "i=0\n",
    "importantfeature = PrettyTable([\"Feature\", \"Score\"])\n",
    "for feature, importance in zip(tfidfvect.get_feature_names(), lgr.coef_[0]):\n",
    "    if i<=100:\n",
    "        importantfeature.add_row([feature, importance])\n",
    "        i=i+1\n",
    "print(importantfeature)"
   ]
  },
  {
   "cell_type": "markdown",
   "id": "0143d777",
   "metadata": {},
   "source": [
    "## Vectorization with Count Vectorizer and TDIDF Vectorizer with Bigram"
   ]
  },
  {
   "cell_type": "code",
   "execution_count": null,
   "id": "5c665199",
   "metadata": {},
   "outputs": [],
   "source": [
    "train,test=train_test_split(data,test_size=.3,random_state=42, shuffle=True)\n",
    "countvect = CountVectorizer(analyzer = \"word\", tokenizer = LemmaTokenizer(), ngram_range=(2,2), min_df=10,max_features=500)\n",
    "tfidfvect = TfidfVectorizer(analyzer = \"word\", tokenizer = LemmaTokenizer(), ngram_range=(2,2),min_df=10,max_features=500)\n",
    "x_train_count = countvect.fit_transform(train['Reviews_clean']).toarray()\n",
    "x_test_count = countvect.transform(test['Reviews_clean']).toarray()\n",
    "x_train_tfidf = tfidfvect.fit_transform(train['Reviews_clean']).toarray()\n",
    "x_test_tfidf = tfidfvect.transform(test['Reviews_clean']).toarray()\n",
    "y_train = train['Label']\n",
    "y_test = test['Label']"
   ]
  },
  {
   "cell_type": "markdown",
   "id": "7742d10f",
   "metadata": {},
   "source": [
    "## Feature Importance with Logistic Regression and Count Vectorizer with Bigram"
   ]
  },
  {
   "cell_type": "code",
   "execution_count": null,
   "id": "38902743",
   "metadata": {},
   "outputs": [],
   "source": [
    "lgr = LogisticRegression()\n",
    "lgr.fit(x_train_count,y_train)\n",
    "lgr.score(x_test_count,y_test)\n",
    "lgr.coef_[0]\n",
    "i=0\n",
    "importantfeature = PrettyTable([\"Feature\", \"Score\"])\n",
    "for feature, importance in zip(countvect.get_feature_names(), lgr.coef_[0]):\n",
    "    if i<=200:\n",
    "        importantfeature.add_row([feature, importance])\n",
    "        i=i+1\n",
    "print(importantfeature)"
   ]
  },
  {
   "cell_type": "markdown",
   "id": "710b92c2",
   "metadata": {},
   "source": [
    "## Feature Importance with Logistic Regression and TFIDF Vectorizer with Bigram"
   ]
  },
  {
   "cell_type": "code",
   "execution_count": null,
   "id": "8a294ff6",
   "metadata": {},
   "outputs": [],
   "source": [
    "lgr.fit(x_train_tfidf,y_train)\n",
    "lgr.score(x_test_tfidf,y_test)\n",
    "lgr.coef_[0]\n",
    "i=0\n",
    "importantfeature = PrettyTable([\"Feature\", \"Score\"])\n",
    "for feature, importance in zip(tfidfvect.get_feature_names(), lgr.coef_[0]):\n",
    "    if i<=50:\n",
    "        importantfeature.add_row([feature, importance])\n",
    "        i=i+1\n",
    "print(importantfeature)"
   ]
  },
  {
   "cell_type": "code",
   "execution_count": null,
   "id": "cffb23e4",
   "metadata": {},
   "outputs": [],
   "source": [
    "pd.options.display.max_colwidth = 1000\n",
    "df[[\"Reviews\",\"Ratings\",\"Movies\"]][(df['Ratings']>=9)&(df['Reviews_clean'].str.contains(\"bad review\"))].head(100)"
   ]
  },
  {
   "cell_type": "markdown",
   "id": "1badb9f3",
   "metadata": {},
   "source": [
    "## Vectorization with Count Vectorizer and TFIDF Vectorizer with Trigram"
   ]
  },
  {
   "cell_type": "code",
   "execution_count": null,
   "id": "2749a9ac",
   "metadata": {},
   "outputs": [],
   "source": [
    "train,test=train_test_split(data,test_size=.3,random_state=42, shuffle=True)\n",
    "countvect = CountVectorizer(analyzer = \"word\", tokenizer = LemmaTokenizer(), ngram_range=(3,3), min_df=10,max_features=500)\n",
    "tfidfvect = TfidfVectorizer(analyzer = \"word\", tokenizer = LemmaTokenizer(), ngram_range=(3,3),min_df=10,max_features=500)\n",
    "x_train_count = countvect.fit_transform(train['Reviews_clean']).toarray()\n",
    "x_test_count = countvect.transform(test['Reviews_clean']).toarray()\n",
    "x_train_tfidf = tfidfvect.fit_transform(train['Reviews_clean']).toarray()\n",
    "x_test_tfidf = tfidfvect.transform(test['Reviews_clean']).toarray()\n",
    "y_train = train['Label']\n",
    "y_test = test['Label']"
   ]
  },
  {
   "cell_type": "markdown",
   "id": "3d34da4a",
   "metadata": {},
   "source": [
    "## Feature Importance with Logistic Regression and Count Vectorizer with Trigram"
   ]
  },
  {
   "cell_type": "code",
   "execution_count": null,
   "id": "c49e08a4",
   "metadata": {},
   "outputs": [],
   "source": [
    "lgr = LogisticRegression()\n",
    "lgr.fit(x_train_count,y_train)\n",
    "lgr.score(x_test_count,y_test)\n",
    "lgr.coef_[0]\n",
    "i=0\n",
    "importantfeature = PrettyTable([\"Feature\", \"Score\"])\n",
    "for feature, importance in zip(countvect.get_feature_names(), lgr.coef_[0]):\n",
    "    if i<=200:\n",
    "        importantfeature.add_row([feature, importance])\n",
    "        i=i+1\n",
    "print(importantfeature)"
   ]
  },
  {
   "cell_type": "markdown",
   "id": "8014b6fd",
   "metadata": {},
   "source": [
    "## Feature Importance with Logistic Regression and TFIDF Vectorizer with Trigram"
   ]
  },
  {
   "cell_type": "code",
   "execution_count": null,
   "id": "5faacac8",
   "metadata": {},
   "outputs": [],
   "source": [
    "lgr = LogisticRegression()\n",
    "lgr.fit(x_train_tfidf,y_train)\n",
    "lgr.score(x_test_tfidf,y_test)\n",
    "lgr.coef_[0]\n",
    "i=0\n",
    "importantfeature = PrettyTable([\"Feature\", \"Score\"])\n",
    "for feature, importance in zip(countvect.get_feature_names(), lgr.coef_[0]):\n",
    "    if i<=200:\n",
    "        importantfeature.add_row([feature, importance])\n",
    "        i=i+1\n",
    "print(importantfeature)"
   ]
  },
  {
   "cell_type": "markdown",
   "id": "256834d5",
   "metadata": {},
   "source": [
    "## Vectorization with Count Vectorizer and TDIDF Vectorizer with 4-gram"
   ]
  },
  {
   "cell_type": "code",
   "execution_count": null,
   "id": "0f19e179",
   "metadata": {},
   "outputs": [],
   "source": [
    "train,test=train_test_split(data,test_size=.3,random_state=42, shuffle=True)\n",
    "countvect = CountVectorizer(analyzer = \"word\", tokenizer = LemmaTokenizer(), ngram_range=(4,4), min_df=10,max_features=500)\n",
    "tfidfvect = TfidfVectorizer(analyzer = \"word\", tokenizer = LemmaTokenizer(), ngram_range=(4,4),min_df=10,max_features=500)\n",
    "x_train_count = countvect.fit_transform(train['Reviews_clean']).toarray()\n",
    "x_test_count = countvect.transform(test['Reviews_clean']).toarray()\n",
    "x_train_tfidf = tfidfvect.fit_transform(train['Reviews_clean']).toarray()\n",
    "x_test_tfidf = tfidfvect.transform(test['Reviews_clean']).toarray()\n",
    "y_train = train['Label']\n",
    "y_test = test['Label']"
   ]
  },
  {
   "cell_type": "markdown",
   "id": "2c2a8df4",
   "metadata": {},
   "source": [
    "## Feature Importance with Logistic Regression and Count Vectorizer with 4-gram"
   ]
  },
  {
   "cell_type": "code",
   "execution_count": null,
   "id": "b6573703",
   "metadata": {},
   "outputs": [],
   "source": [
    "lgr = LogisticRegression()\n",
    "lgr.fit(x_train_count,y_train)\n",
    "lgr.score(x_test_count,y_test)\n",
    "lgr.coef_[0]\n",
    "i=0\n",
    "importantfeature = PrettyTable([\"Feature\", \"Score\"])\n",
    "for feature, importance in zip(countvect.get_feature_names(), lgr.coef_[0]):\n",
    "    if i<=200:\n",
    "        importantfeature.add_row([feature, importance])\n",
    "        i=i+1\n",
    "print(importantfeature)"
   ]
  },
  {
   "cell_type": "markdown",
   "id": "fae5397d",
   "metadata": {},
   "source": [
    "## Feature Importance with Logistic Regression and TDIDF Vectorizer with 4-gram"
   ]
  },
  {
   "cell_type": "code",
   "execution_count": null,
   "id": "efe7b8fb",
   "metadata": {},
   "outputs": [],
   "source": [
    "lgr = LogisticRegression()\n",
    "lgr.fit(x_train_tfidf,y_train)\n",
    "lgr.score(x_test_tfidf,y_test)\n",
    "lgr.coef_[0]\n",
    "i=0\n",
    "importantfeature = PrettyTable([\"Feature\", \"Score\"])\n",
    "for feature, importance in zip(tfidfvect.get_feature_names(), lgr.coef_[0]):\n",
    "    if i<=200:\n",
    "        importantfeature.add_row([feature, importance])\n",
    "        i=i+1\n",
    "print(importantfeature)"
   ]
  },
  {
   "cell_type": "markdown",
   "id": "3e48152c",
   "metadata": {},
   "source": [
    "## Vectorization with Count Vectorizer and TDIDF Vectorizer with unigram, bigram and trigram"
   ]
  },
  {
   "cell_type": "code",
   "execution_count": null,
   "id": "d6d38c04",
   "metadata": {},
   "outputs": [],
   "source": [
    "train,test=train_test_split(data,test_size=.3,random_state=42, shuffle=True)\n",
    "countvect = CountVectorizer(analyzer = \"word\", tokenizer = LemmaTokenizer(), ngram_range=(1,3), min_df=10,max_features=5000)\n",
    "tfidfvect = TfidfVectorizer(analyzer = \"word\", tokenizer = LemmaTokenizer(), ngram_range=(1,3),min_df=10,max_features=5000)\n",
    "x_train_count = countvect.fit_transform(train['Reviews_clean']).toarray()\n",
    "x_test_count = countvect.transform(test['Reviews_clean']).toarray()\n",
    "x_train_tfidf = tfidfvect.fit_transform(train['Reviews_clean']).toarray()\n",
    "x_test_tfidf = tfidfvect.transform(test['Reviews_clean']).toarray()\n",
    "y_train = train['Label']\n",
    "y_test = test['Label']"
   ]
  },
  {
   "cell_type": "markdown",
   "id": "306f26de",
   "metadata": {},
   "source": [
    "## Feature Selection with Chi squared"
   ]
  },
  {
   "cell_type": "code",
   "execution_count": null,
   "id": "259f9e7d",
   "metadata": {},
   "outputs": [],
   "source": [
    "from sklearn.feature_selection import chi2\n",
    "import numpy as np\n",
    "N = 5000\n",
    "Number = 1\n",
    "featureselection = PrettyTable([\"Unigram\", \"Bigram\",\"Trigram\"])\n",
    "for category in train['Label'].unique():\n",
    "    features_chi2 = chi2(x_train_tfidf, train['Label'] == category)\n",
    "    indices = np.argsort(features_chi2[0])\n",
    "    feature_names = np.array(tfidfvect.get_feature_names())[indices]\n",
    "    unigrams = [x for x in feature_names if len(x.split(' ')) == 1]\n",
    "    bigrams = [x for x in feature_names if len(x.split(' ')) == 2]\n",
    "    trigrams = [x for x in feature_names if len(x.split(' ')) == 3]\n",
    "    print(\"%s. %s :\" % (Number,category))\n",
    "    print(\"\\t# Unigrams :\\n\\t. %s\" %('\\n\\t. '.join(unigrams[-N:])))\n",
    "    print(\"\\t# Bigrams :\\n\\t. %s\" %('\\n\\t. '.join(bigrams[-N:])))\n",
    "    print(\"\\t# Trigrams :\\n\\t. %s\" %('\\n\\t. '.join(trigrams[-N:])))\n",
    "    Number += 1"
   ]
  }
 ],
 "metadata": {
  "kernelspec": {
   "display_name": "Python 3 (ipykernel)",
   "language": "python",
   "name": "python3"
  },
  "language_info": {
   "codemirror_mode": {
    "name": "ipython",
    "version": 3
   },
   "file_extension": ".py",
   "mimetype": "text/x-python",
   "name": "python",
   "nbconvert_exporter": "python",
   "pygments_lexer": "ipython3",
   "version": "3.11.6"
  }
 },
 "nbformat": 4,
 "nbformat_minor": 5
}
